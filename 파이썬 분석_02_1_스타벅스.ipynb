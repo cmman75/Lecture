{
 "cells": [
  {
   "cell_type": "code",
   "execution_count": null,
   "metadata": {},
   "outputs": [],
   "source": [
    "###############################################\n",
    "# 서울시 소상공인 데이터(공공데이터) 분석 사례\n",
    "###############################################"
   ]
  },
  {
   "cell_type": "code",
   "execution_count": null,
   "metadata": {},
   "outputs": [],
   "source": [
    "#----------------------\n",
    "# 1_기본 문법 이해하기\n",
    "#----------------------"
   ]
  },
  {
   "cell_type": "code",
   "execution_count": null,
   "metadata": {},
   "outputs": [],
   "source": [
    "# 01_외부 파일 읽어오기 (csv,txt, xlsx)\n",
    "\n",
    "# pd.read_csv(): 판다스 라이브러리의 read_csv() 함수를 사용\n",
    "# 외부 text 파일, csv 파일을 불러와서 데이터프레임으로 사용할 수 있음"
   ]
  },
  {
   "cell_type": "code",
   "execution_count": null,
   "metadata": {},
   "outputs": [],
   "source": [
    "import pandas as pd\n",
    "\n",
    "shop_2022 = pd.read_csv('./data/seoul_coffee.csv', encoding='utf-8', sep=',')"
   ]
  },
  {
   "cell_type": "code",
   "execution_count": null,
   "metadata": {},
   "outputs": [],
   "source": [
    "# 02_데이터 이해하기"
   ]
  },
  {
   "cell_type": "code",
   "execution_count": null,
   "metadata": {},
   "outputs": [],
   "source": [
    "# 데이터프레임.head(): 데이터프레임 맨 앞의 부분만 미리보기\n",
    "\n",
    "shop_2022.head(2)"
   ]
  },
  {
   "cell_type": "code",
   "execution_count": null,
   "metadata": {},
   "outputs": [],
   "source": [
    "# 데이터프레임.shape: 데이터프레임의 행과 열의 갯수를 알려줌\n",
    "\n",
    "shop_2022.shape"
   ]
  },
  {
   "cell_type": "code",
   "execution_count": null,
   "metadata": {},
   "outputs": [],
   "source": [
    "# print(type(데이터프레임)) : 자료형 확인하기\n",
    "\n",
    "print(type(shop_2022))"
   ]
  },
  {
   "cell_type": "code",
   "execution_count": null,
   "metadata": {},
   "outputs": [],
   "source": [
    "# 데이터프레임.dtypes: 데이터프레임 내  변수의 형식(타입)을 알려줌\n",
    "\n",
    "shop_2022.dtypes"
   ]
  },
  {
   "cell_type": "code",
   "execution_count": null,
   "metadata": {},
   "outputs": [],
   "source": [
    "# 데이터프레임.str.contains(\"문자\"): 데이터프레임 내 특정 문자가 포함된 행만 반환\n",
    "# TRUE / FALSE로 반환\n",
    "\n",
    "shop_2022['지점명'].str.contains(\"대학로\", na=False)"
   ]
  },
  {
   "cell_type": "code",
   "execution_count": null,
   "metadata": {},
   "outputs": [],
   "source": [
    "# 데이터프레임.str.contains(\"문자\"): 데이터프레임 내 특정 문자가 포함된 행만 반환\n",
    "# 데이터프레임으로 반환\n",
    "\n",
    "shop_2022[shop_2022['지점명'].str.contains('대학로', na=False)]"
   ]
  },
  {
   "cell_type": "code",
   "execution_count": null,
   "metadata": {},
   "outputs": [],
   "source": [
    "# 데이터프레임.columns: 데이터프레임의 열 이름을 알려줌\n",
    "\n",
    "shop_2022.columns"
   ]
  },
  {
   "cell_type": "code",
   "execution_count": null,
   "metadata": {},
   "outputs": [],
   "source": [
    "# (이름으로) 행조회\n",
    "\n",
    "shop_2022.loc[[1921]]"
   ]
  },
  {
   "cell_type": "code",
   "execution_count": null,
   "metadata": {},
   "outputs": [],
   "source": [
    "# (이름으로) 여러행 동시조회\n",
    "\n",
    "shop_2022.loc[[1921, 2540]]"
   ]
  },
  {
   "cell_type": "code",
   "execution_count": null,
   "metadata": {},
   "outputs": [],
   "source": [
    "# (이름으로) 열조회\n",
    "\n",
    "shop_2022.loc[:,'상호명']"
   ]
  },
  {
   "cell_type": "code",
   "execution_count": null,
   "metadata": {},
   "outputs": [],
   "source": [
    "# (이름으로) 열조회\n",
    "\n",
    "shop_2022.loc[:,'상호명':'상권업종중분류명']"
   ]
  },
  {
   "cell_type": "code",
   "execution_count": null,
   "metadata": {},
   "outputs": [],
   "source": [
    "# (이름으로) 행과열 동시조회\n",
    "\n",
    "shop_2022.loc[4,'상호명']"
   ]
  },
  {
   "cell_type": "code",
   "execution_count": null,
   "metadata": {},
   "outputs": [],
   "source": [
    "# (위치로) 행조회\n",
    "\n",
    "shop_2022.iloc[0]"
   ]
  },
  {
   "cell_type": "code",
   "execution_count": null,
   "metadata": {},
   "outputs": [],
   "source": [
    "# (위치로) 열조회\n",
    "\n",
    "shop_2022.iloc[:,0]"
   ]
  },
  {
   "cell_type": "code",
   "execution_count": null,
   "metadata": {},
   "outputs": [],
   "source": [
    "#-------------------------------------\n",
    "# 2_판다스 데이터 프레임으로 지도 그리기\n",
    "#-------------------------------------"
   ]
  },
  {
   "cell_type": "code",
   "execution_count": null,
   "metadata": {},
   "outputs": [],
   "source": [
    "# 01_라이브러리 불러오기\n",
    "\n",
    "import pandas as pd    # 판다스 데이터프레임 사용 라이브러리\n",
    "import numpy as np     # 넘파이 사용 라이브러리\n",
    "import seaborn as sns  # 데이터 시각화 라이브러리\n",
    "import folium          # 데이터 시각화 라이브러리 "
   ]
  },
  {
   "cell_type": "code",
   "execution_count": null,
   "metadata": {},
   "outputs": [],
   "source": [
    "# 02_소상공인 진흥공단 상가 데이터(서울시) 불러오기\n",
    "\n",
    "shop_2022 = pd.read_csv('./data/seoul_coffee.csv', encoding='utf-8', sep=',')\n",
    "shop_2022.head(2)  # 미리보기"
   ]
  },
  {
   "cell_type": "code",
   "execution_count": null,
   "metadata": {},
   "outputs": [],
   "source": [
    "# 03_행렬 수 확인\n",
    "\n",
    "shop_2022.shape"
   ]
  },
  {
   "cell_type": "code",
   "execution_count": null,
   "metadata": {},
   "outputs": [],
   "source": [
    "# 04_컬럼이름 확인\n",
    "\n",
    "shop_2022.columns"
   ]
  },
  {
   "cell_type": "code",
   "execution_count": null,
   "metadata": {},
   "outputs": [],
   "source": [
    "# 05_필터링: 특정 지역에 커피 전문점 갯수 알아보기\n",
    "\n",
    "shop_2022[shop_2022['시군구명'].str.contains('종로', na=False)].shape"
   ]
  },
  {
   "cell_type": "code",
   "execution_count": null,
   "metadata": {},
   "outputs": [],
   "source": [
    "# 06_상호명으로 봤을 때 다양한 유형의 커피 전문점이 있음\n",
    "\n",
    "shop_2022['상호명'].unique()"
   ]
  },
  {
   "cell_type": "code",
   "execution_count": null,
   "metadata": {},
   "outputs": [],
   "source": [
    "# 07_서울시의 커피 전문점은 모두 13,213개\n",
    "\n",
    "shop_2022['상호명'].unique().shape"
   ]
  },
  {
   "cell_type": "code",
   "execution_count": null,
   "metadata": {},
   "outputs": [],
   "source": [
    "# 07_커피전문점에서 스타벅스 이름이 포함된 상호만 추출: 466개\n",
    "\n",
    "sb = shop_2022.loc[shop_2022['상호명'].str.contains('스타벅스')]\n",
    "sb.shape"
   ]
  },
  {
   "cell_type": "code",
   "execution_count": null,
   "metadata": {},
   "outputs": [],
   "source": [
    "# 08_스타벅스 상호명은...?\n",
    "\n",
    "shop_2022.loc[shop_2022['상호명'].str.contains('스타벅스'), '상호명'].unique()"
   ]
  },
  {
   "cell_type": "code",
   "execution_count": null,
   "metadata": {},
   "outputs": [],
   "source": [
    "# 09_다른지역의 데이터가 들어가 있는지 확인\n",
    "\n",
    "sb['시도명'].value_counts()"
   ]
  },
  {
   "cell_type": "code",
   "execution_count": null,
   "metadata": {},
   "outputs": [],
   "source": [
    "# 10_어느 자치구의 데이터들이 있는지 확인\n",
    "\n",
    "sb['시군구명'].unique()"
   ]
  },
  {
   "cell_type": "code",
   "execution_count": null,
   "metadata": {},
   "outputs": [],
   "source": [
    "# 11_전체 데이터가 몇 개인지 확인\n",
    "\n",
    "sb['상권업종중분류명'].value_counts()"
   ]
  },
  {
   "cell_type": "code",
   "execution_count": null,
   "metadata": {},
   "outputs": [],
   "source": [
    "# 12_위경도 기준으로 지도에 표현하기\n",
    "\n",
    "sb.plot.scatter(x=\"경도\", y=\"위도\", grid=\"True\")"
   ]
  },
  {
   "cell_type": "code",
   "execution_count": null,
   "metadata": {},
   "outputs": [],
   "source": [
    "# 13_시군구 기준으로 어느 지역에 가장 많이 있는지 확인\n",
    "\n",
    "import matplotlib.pyplot as plt\n",
    "plt.rcParams['font.family'] = 'Malgun Gothic' # 한글폰트(윈도우) 설정\n",
    "# plt.rcParams['font.family'] = 'AppleGothic'   # 한글폰트(맥) 설정\n",
    "\n",
    "sns.countplot(data=sb, y=\"시군구명\")"
   ]
  },
  {
   "cell_type": "code",
   "execution_count": null,
   "metadata": {},
   "outputs": [],
   "source": [
    "# 07_마커 클러스터 만들기\n",
    "\n",
    "import folium\n",
    "from folium.plugins import MarkerCluster\n",
    "\n",
    "# 중심점 좌표 찍기\n",
    "m = folium.Map(location=[37.5642135, 127.0016985], zoom_start=10)\n",
    "\n",
    "# 마커 위치 리스트업\n",
    "locations = list(zip(sb.위도, sb.경도))\n",
    "icons = [folium.Icon(icon=\"car\", prefix=\"fa\") for _ in range(len(locations))]\n",
    "\n",
    "# 클러스터링 하기\n",
    "cluster = MarkerCluster(locations=locations, icons=icons)\n",
    "m.add_child(cluster)\n",
    "m"
   ]
  },
  {
   "cell_type": "code",
   "execution_count": null,
   "metadata": {},
   "outputs": [],
   "source": [
    "from folium.plugins import HeatMap\n",
    "map_obj = folium.Map(location=[37.58, 126.97], zoom_start=11) #tiles은 TMS URL, attr은 배경지도 정보\n",
    "\n",
    "heatMap = HeatMap(zip(sb.위도, sb.경도),                   \n",
    "                  min_opacity=0.1,\n",
    "                  radius=20,  #영향 반경 \n",
    "                  blur=25,     #스무딩 \n",
    "                  max_zoom=4,\n",
    "                  color='Red',\n",
    "                  #gradient={.5: 'Yellow', .75: 'Orange', 1: 'red'}\n",
    ")\n",
    "map_obj.add_child(heatMap)\n",
    "map_obj"
   ]
  }
 ],
 "metadata": {
  "kernelspec": {
   "display_name": "Python 3",
   "language": "python",
   "name": "python3"
  },
  "language_info": {
   "codemirror_mode": {
    "name": "ipython",
    "version": 3
   },
   "file_extension": ".py",
   "mimetype": "text/x-python",
   "name": "python",
   "nbconvert_exporter": "python",
   "pygments_lexer": "ipython3",
   "version": "3.8.8"
  }
 },
 "nbformat": 4,
 "nbformat_minor": 4
}
