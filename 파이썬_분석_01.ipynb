{
 "cells": [
  {
   "cell_type": "code",
   "execution_count": null,
   "id": "28980498",
   "metadata": {},
   "outputs": [],
   "source": [
    "################################################\n",
    "### Python을 활용한 부동산 데이터 분석과 활용 ###\n",
    "################################################"
   ]
  },
  {
   "cell_type": "code",
   "execution_count": null,
   "id": "154b9d3f",
   "metadata": {},
   "outputs": [],
   "source": [
    "#--------------------\n",
    "# 0_서론: 파이썬 소개\n",
    "#--------------------"
   ]
  },
  {
   "cell_type": "code",
   "execution_count": null,
   "id": "541f8998",
   "metadata": {},
   "outputs": [],
   "source": [
    "## 0-1) 4차 산업혁명과 빅데이터\n",
    "\n",
    "# 4차 산업혁명이란 첨단 정보통신 기술이 경제와 사회 전반에 융합되어 혁신적인 변화를 나타내는 차세대 산업혁명을 의미\n",
    "\n",
    "# 언제 어디서든지 인터넷에 접속할 수 있게 되었고, 기기 상호 간 통신이 원활해 지면서 엄청난 양의 데이터들이 만들어지고 있음\n",
    "\n",
    "# 이러한 기술발전과 함께 대량의 데이터를 효율적으로 처리하고 분석하고 실제 활용할 수 있는 코딩 기술이 관심을 받고 있음"
   ]
  },
  {
   "cell_type": "code",
   "execution_count": null,
   "id": "f6f30ce4",
   "metadata": {},
   "outputs": [],
   "source": [
    "## 0-2) 분석 도구 선택\n",
    "\n",
    "# 데이터 분석을 위한 다양한 언어와 이에 따른 분석 도구들이 있음\n",
    "# => C, Java, Ruby 같은 언어들은 한번 쯤 들어보았을 것임\n",
    "\n",
    "# 그러나 이러한 분석 도구들은 컴퓨터 또는 전산학 전공자들에게 특화되어 있음\n",
    "# (언어를 배우는데 시간이 너무 오래 걸림)\n",
    "\n",
    "# 따라서 짧은 시간 내에 배울 수 있고, 이를 효율적으로 실무에 바로 응용할 수 있는 언어에 대한 관심이 증가해 왔음\n",
    "\n",
    "# 이러한 관점에서 최근 전세계적으로 Python과 R이 크게 관심을 받고 있음\n",
    "# => R은 인문사회과학 영역에서 통계와 데이터 분석(계량분석)에 강점을 가지고 있는 언어\n",
    "# => Python은 보다 광범위하게 프로그램 개발이나 머신러닝 그리고 사물인터넷 운영에 강정을 가지고 있는 언어\n",
    "\n",
    "# 무엇보다도 최근 급격하게 사용자가 늘어나고 있는 도구임"
   ]
  },
  {
   "cell_type": "code",
   "execution_count": null,
   "id": "2b5668aa",
   "metadata": {},
   "outputs": [],
   "source": [
    "## 0-3) R과 Python 중 무엇을 공부 해야 할까?\n",
    "  \n",
    "# 만약 당신이 학생이라면, 회사에 들어가기 전에 충분히 숙달할 시간과 자신이 있다면 아무거나 하는 것이 좋음\n",
    "# 두 언어 모두 기계의 효율성보다는 사람의 생산성을 우선하는 언어이기 때문임\n",
    "\n",
    "# 만약 취업을 앞둔 학생이라면, Python을 하는 것이 좋음\n",
    "# => R만 특화하여 명시적으로 뽑는 자리는 드물지만, 반대의 경우는 많음\n",
    "\n",
    "# 만약 여러분이 직업이 있다면 또는 개발일이 더 적성에 맞는다면 Python을 배우는 것이 좋음\n",
    "# => Python은 범용 개발언어이기 때문에 당신이 Python을 할 줄 안다면 다양한 도구들을 개발할 수 있음 \n",
    "  \n",
    "# 만약, 여러분이 하는 일에 개발에 개자도 끼지 않을것 같다면 그리고 분석 업무가 많다면 R을 공부하는 것이 좋음\n",
    "# R은 파이썬 보다 직관적일뿐만 아니라 이해하기 쉽기 때문에 빠르게 익히고 활용할 수 있음\n",
    "\n",
    "# 만약, 여러분이 머신러닝이나 인공지능 프로젝트를 많이 한다면 미안한 말이지만 둘다해야 합니다. \n",
    "# 데이터를 다루는데는 R이, 머신러닝 모델 개발에는 Python이 좋음\n",
    "\n",
    "# 만약, 여러분이 논문이나 연구를 진행할 계획이라면 R을 선택해야 함\n",
    "# 많은 대학의 교수와 연구원들이 R을 분석 도구로 사용하고 있으며, 최신 분석 기법에 대한 라이브러리 역시 빨리 업데이트 되는 편임\n",
    "# => 통계분석이나 계량분석에 있어서 파이썬은 노답인 경우가 많음 \n",
    "\n",
    "# 만약, 여러분 주변에 개발자가 있다면 위의 모든 것을 무시하고 Python을 배워야 함\n",
    "# R은 직관에 가까운 언어(인문사회 중심)이기 때문에, 컴퓨터나 전산학 전공자들이 이해하기 어려움\n",
    "# 이러한 경우 R로 작성된 코드를 건내준다면 더 이상 프로젝트를 진행하기 어려울 것이기 때문임"
   ]
  },
  {
   "cell_type": "code",
   "execution_count": null,
   "id": "55b3a157",
   "metadata": {},
   "outputs": [],
   "source": [
    "#----------------------------------\n",
    "# 1_준비: 파이썬 개발환경 구축하기\n",
    "#----------------------------------"
   ]
  },
  {
   "cell_type": "code",
   "execution_count": null,
   "id": "32854a14",
   "metadata": {},
   "outputs": [],
   "source": [
    "## 1-1) 개발환경에 대한 소개\n",
    "\n",
    "# 파이썬을 활용한 분석 및 개발을 위하여 가장 먼저 해야 할 일은 코드를 입력하고 실행할 수 있는 개발환경을 구축하는 것임\n",
    "\n",
    "# 이 때 어떤 개발환경을 구축하는가에 따라서 편리성이 달라지게 되며, 최종적으로 작업 효율성과도 직결되는 중요한 과정임\n",
    "\n",
    "# 컴퓨터 언어에는 대체로 그에 적합한 통합개발환경(Integrated Development Environment: IDE)을 제공하고 있습니다.\n",
    "# (개별 프로그램을 하나하나 깔고 세팅하지 않아도 되는 편리함을 제공함)"
   ]
  },
  {
   "cell_type": "code",
   "execution_count": null,
   "id": "3be2b253",
   "metadata": {},
   "outputs": [],
   "source": [
    "## 1-2) 어떤 개발환경을 구축할 것인가?\n",
    "\n",
    "# 파이썬에서 가장 널리 알려진 개발도구는 다음의 세 가지임\n",
    "# => 파이참(Pycharm)[일부무료], 비주얼 스튜디오 코드(VSC)[일부무료] 그리고 주피터 노트북(anacoda)[무료]\n",
    "\n",
    "# 이러한 개발도구를 편리하게 이용하기 위해서는 통합개발환경 사용하는 것이 유리함\n",
    "# => 아나콘다를 활용"
   ]
  },
  {
   "cell_type": "code",
   "execution_count": null,
   "id": "85b5831a",
   "metadata": {},
   "outputs": [],
   "source": [
    "## 1-3) 아나콘다란 무엇인가?\n",
    "\n",
    "# 파이썬 언어 설치부터 IDE 설치, 코딩에 필요한 라이 브러리 설치 등 고려할 것이 많음\n",
    "# 이 모든 고민올 한 방에 해결해주는 통합개발환경이 아나콘다(Anaconda)\n",
    "\n",
    "# 파이썬 입문자들이 중간에 포기하게 되는 원인이 되는 시스템 충돌 및 다양한 환경 오류임\n",
    "# 통합개발환경을 사용하면 이러한 골치아픈 문제에서 상당히 해방됨"
   ]
  },
  {
   "cell_type": "code",
   "execution_count": null,
   "id": "ebc948d4",
   "metadata": {},
   "outputs": [],
   "source": [
    "## 1-4) 아나콘다 다운로드 및 설치\n",
    "\n",
    "# Anaconda Individual Edition 다운로드 (약 600 메가)\n",
    "# => https://www.anaconda.com/products/distribution\n",
    "\n",
    "# 설치 과정에서 다음 내용 나오면 필수 체크 필요\n",
    "#   => [V] add Anaconda 3 to my PATH environment variable"
   ]
  },
  {
   "cell_type": "code",
   "execution_count": null,
   "id": "90dbda8c",
   "metadata": {},
   "outputs": [],
   "source": [
    "## 1-5) 아나콘다 통합환경 내에서 주피터 노트북 실행 방법\n",
    "\n",
    "# 방법 1: 시작 메뉴의 Anaconda Navigator > Jupyter Notebook 실행 \n",
    "# 방법 2: 시작 메뉴의 Anaconda Powershell Prompt > 터미널 실행 > jupyter notebook 실행\n",
    "#         주피터 노트북이 시작되지 않으면 주소를 복사하여 인터넷 브라우저에 붙여 넣으세요 "
   ]
  },
  {
   "cell_type": "code",
   "execution_count": null,
   "id": "1c2fb7c7",
   "metadata": {},
   "outputs": [],
   "source": [
    "## 1-6) 주피터 노트북 조작\n",
    "\n",
    "# 방법 1: Shift + Enter (실행 이후 라인 다음 셀로 이동 / 다음 셀이 없을 경우 새로운 셀 생성 후 이동)\n",
    "# 방법 2: Ctrl + Enter (해당 셀 실행)"
   ]
  },
  {
   "cell_type": "code",
   "execution_count": null,
   "id": "d82672ea",
   "metadata": {},
   "outputs": [],
   "source": [
    "#-----------------\n",
    "# 2_파이썬 맛보기\n",
    "#-----------------"
   ]
  },
  {
   "cell_type": "code",
   "execution_count": null,
   "id": "a5676270",
   "metadata": {},
   "outputs": [],
   "source": [
    "## 2-1) 입력과 출력 기초: 사칙연산\n",
    "\n",
    "3 + 5  # 더하기\n",
    "# 샵(#) 표시는 주석 ⇒ python 은 # 이후의 코드 무시함"
   ]
  },
  {
   "cell_type": "code",
   "execution_count": null,
   "id": "14a6df93",
   "metadata": {},
   "outputs": [],
   "source": [
    "3 - 5  # 빼기 "
   ]
  },
  {
   "cell_type": "code",
   "execution_count": null,
   "id": "c0fc2f80",
   "metadata": {},
   "outputs": [],
   "source": [
    "3 * 3  # 곱셈"
   ]
  },
  {
   "cell_type": "code",
   "execution_count": null,
   "id": "4bb68279",
   "metadata": {},
   "outputs": [],
   "source": [
    "3 / 3  # 나눗셈 "
   ]
  },
  {
   "cell_type": "code",
   "execution_count": null,
   "id": "09c2b87b",
   "metadata": {},
   "outputs": [],
   "source": [
    "## 2-2) 입력과 출력 기초: 변수 할당하여 계산 (문자열 치환)\n",
    "\n",
    "galaxy = 3       # 숫자 변수끼리는 계산 가능\n",
    "iphone = 4\n",
    "galaxy + iphone"
   ]
  },
  {
   "cell_type": "code",
   "execution_count": null,
   "id": "d2edb2e3",
   "metadata": {},
   "outputs": [],
   "source": [
    "Xiaomi = \"중국 스마트폰\"   # 숫자변수와 문자변수가 혼합된 경우 계산 불가능\n",
    "galaxy + Xiaomi"
   ]
  },
  {
   "cell_type": "code",
   "execution_count": null,
   "id": "e9dfc30f",
   "metadata": {},
   "outputs": [],
   "source": [
    "print(type(iphone)) # 숫자변수: integer[정수형]\n",
    "print(type(Xiaomi)) # 문자변수: structure"
   ]
  },
  {
   "cell_type": "code",
   "execution_count": null,
   "id": "aa49c194",
   "metadata": {},
   "outputs": [],
   "source": [
    "## 2-3) 입력과 출력 기초: 문자열 인덱싱 / 슬라이싱\n",
    "\n",
    "# 인덱싱: 문자열의 특정 위치 값을 가져오는 것\n",
    "# 슬라이싱: 인덱싱의 확장 개념으로 특정 위치가 아니라 일정 범위의 문자열을 가져옴\n",
    "# 인덱싱과 슬라이싱을 활용하기 위해서는 대괄호[]를 사용함\n",
    "\n",
    "print(Xiaomi[0])    # 0번째 문자만 표시\n",
    "print(Xiaomi[0:5])  # 0번째 문자에서 시작하여 5번째 문자 까지만 표시"
   ]
  },
  {
   "cell_type": "code",
   "execution_count": null,
   "id": "f0de7240",
   "metadata": {},
   "outputs": [],
   "source": [
    "## 2-4) 입력과 출력 기초: 딕셔너리\n",
    "\n",
    "# 우리는 \"이름\" = \"홍길동\", \"생일\" = \"YYYYMMDD\" 등으로 데이터의 별칭을 사용함\n",
    "# 이러한 관계를 대응관계라고 하며, 파이썬에서는 딕셔너리형 데이터라고 부름\n",
    "\n",
    "# 조금 더 기술적으로 정리하자면.. 딕셔너리는...\n",
    "# => key(키)와 value(값)을 한 쌍으로 데이터를 저장한 다음\n",
    "# => 찾고 싶은 부분을 쉽고 빠르게 찾을 수 있는 데이터 구조를 의미\n",
    "\n",
    "phone = {'galaxy':\"한국\", 'iphone':\"미국\", 'Xiaomi':\"중국\"}"
   ]
  },
  {
   "cell_type": "code",
   "execution_count": null,
   "id": "9e7ba188",
   "metadata": {},
   "outputs": [],
   "source": [
    "# 속성 확인하기\n",
    "print(type(phone))"
   ]
  },
  {
   "cell_type": "code",
   "execution_count": null,
   "id": "9a3d3eaa",
   "metadata": {},
   "outputs": [],
   "source": [
    "# 딕셔너리형 사용 예시: 갤럭시의 제조국은 어디?\n",
    "\n",
    "phone['galaxy']   "
   ]
  },
  {
   "cell_type": "code",
   "execution_count": null,
   "id": "cd0dea75",
   "metadata": {},
   "outputs": [],
   "source": [
    "# 딕셔너리형 사용 예시: 아아폰의 제조국은 어디?\n",
    "\n",
    "phone['iphone']   "
   ]
  },
  {
   "cell_type": "code",
   "execution_count": null,
   "id": "af395d94",
   "metadata": {},
   "outputs": [],
   "source": [
    "## 2-5) 입력과 출력 응용: 리스트 다루기\n",
    "\n",
    "item = [1,2,3,4,5,6,7,8,9,10] \n",
    "sum(item) "
   ]
  },
  {
   "cell_type": "code",
   "execution_count": null,
   "id": "06f03e97",
   "metadata": {},
   "outputs": [],
   "source": [
    "list(range(1, 10))      # 특정 범위의 숫자 출력"
   ]
  },
  {
   "cell_type": "code",
   "execution_count": null,
   "id": "2888456e",
   "metadata": {},
   "outputs": [],
   "source": [
    "list(range(1, 10, 2))   # 특정 범위의 홀수만 출력"
   ]
  },
  {
   "cell_type": "code",
   "execution_count": null,
   "id": "2947c5c6",
   "metadata": {},
   "outputs": [],
   "source": [
    "list(range(2, 11, 2))   # 특정 범위의 짝수만 출력"
   ]
  },
  {
   "cell_type": "code",
   "execution_count": null,
   "id": "921efab0",
   "metadata": {},
   "outputs": [],
   "source": [
    "for i in range(1, 10) :     # 1 ~ 10 까지 반복하여 문자 출력\n",
    "    print(' [', i, '단 ]')   # 주의: indent "
   ]
  },
  {
   "cell_type": "code",
   "execution_count": null,
   "id": "51394b03",
   "metadata": {},
   "outputs": [],
   "source": [
    "# 특정 위치 제외하기 \n",
    "\n",
    "height = [179, 175, 180, 185]  # 4명 신장 데이터\n",
    "del height[3]                  # 3번 리스트값 제외하고 결과 보여주기 \n",
    "print(height) "
   ]
  },
  {
   "cell_type": "code",
   "execution_count": null,
   "id": "94288235",
   "metadata": {},
   "outputs": [],
   "source": [
    "#--------------------\n",
    "# 3_기초 데이터 분석\n",
    "#--------------------"
   ]
  },
  {
   "cell_type": "code",
   "execution_count": null,
   "id": "b69f1ea9",
   "metadata": {},
   "outputs": [],
   "source": [
    "## 3-1) 산술평균\n",
    "#  가장 일반적인 평균계산 방법 -> 관측치 총합 / 관측개수\n",
    "\n",
    "item = [1,2,3,4,5,6,7,8,9,10] \n",
    "sum(item) /10"
   ]
  },
  {
   "cell_type": "code",
   "execution_count": null,
   "id": "0a9e5742",
   "metadata": {},
   "outputs": [],
   "source": [
    "## 3-2) 기하평균: 시간에 따른 비율변화 비교 (경제성장률 / 인구증가율)\n",
    "\n",
    "# 작년이율 1%, 올해 이율 5%인 복리정기예금의 2년간 평균 이율은?\n",
    "(1.01 + 1.05)/2     # 산술평균 접근 => 3.0%   (오답)"
   ]
  },
  {
   "cell_type": "code",
   "execution_count": null,
   "id": "d0d40591",
   "metadata": {},
   "outputs": [],
   "source": [
    "(1.01*1.05)**(1/2)  # 기하평균 접근 => 2.98% (정답)"
   ]
  },
  {
   "cell_type": "code",
   "execution_count": null,
   "id": "b70cd1ad",
   "metadata": {},
   "outputs": [],
   "source": [
    "# 연평균 성장률: 연평균성장률\n",
    "\n",
    "# 연도 |2015|2016|2017|2018 | => 연평균 성장률은? CARG 함수  \n",
    "# 금액| 100| 150| 190| 250 |    \n",
    "\n",
    "IV = 100 ; FV = 350 ; n = 4      \n",
    "(FV/IV)**(1/n) - 1               # 매년 36.7% 성장 \n"
   ]
  },
  {
   "cell_type": "code",
   "execution_count": null,
   "id": "2145c654",
   "metadata": {},
   "outputs": [],
   "source": [
    "## 3-3) 조화평균: 일정한 거리 이동시 사용\n",
    "\n",
    "# 집   → 학교(자전거 이용): 30km/h\n",
    "# 학교 → 집  (자동차 이용): 90km/h 라면 평속은?\n",
    "\n",
    "(30 + 90) / 2   # 산술평균 접근 => 60km/h  (오답)"
   ]
  },
  {
   "cell_type": "code",
   "execution_count": null,
   "id": "d89de06a",
   "metadata": {},
   "outputs": [],
   "source": [
    "                     #                  2\n",
    "2 / ((1/30)+(1/90))  #  100km/h = ----------   = 45km/h (정답)\n",
    "                     #           1/30 + 1/90"
   ]
  },
  {
   "cell_type": "code",
   "execution_count": null,
   "id": "33523f2c",
   "metadata": {},
   "outputs": [],
   "source": [
    "#-----------------------------------\n",
    "# 4_기술통계 1: Pandas[판다스] 연습\n",
    "#-----------------------------------"
   ]
  },
  {
   "cell_type": "code",
   "execution_count": null,
   "id": "17f97bf9",
   "metadata": {},
   "outputs": [],
   "source": [
    "## 4-1) 라이브러리란?\n",
    "\n",
    "# 자주 반복되어 사용되는 유용한 기능을 모아둔 코드 집합치로서 import를 통하여 불러올 수 있음\n",
    "\n",
    "# 설치: 라이브러리는 프롬포트에서 pip install <라이브러리 이름>을 입력하여 설치할 수 있음\n",
    "\n",
    "# 로딩: 설치된 라이브러리는 import <라이브러리 이름>으로 불러올 수 있음\n",
    "#       다만 라이브러리 이름이 길 경우에는 import <라이브러리 이름> as <약칭>으로 간단히 표현할 수 있음"
   ]
  },
  {
   "cell_type": "code",
   "execution_count": null,
   "id": "5e029ef3",
   "metadata": {},
   "outputs": [],
   "source": [
    "## 4-2) pandas란?\n",
    "\n",
    "# 엑셀 같은 테이블 형태의 데이터를 쉽게 다룰 수 있는 파이썬 라이브러리\n",
    "\n",
    "# 이 때 데이터를 담는 그릇은 크게 두 가지 유형으로 구분됨(Series, DataFrame)\n",
    "\n",
    "import pandas as pd  # import pandas는 pandas 라이브러리를 불러오라는 의미\n",
    "                      # as pd는 입력때마다 pandas 치기 귀찮으니까 간단히 pd라는 별명(alias)으로 지정한다는 뜻임\n",
    "import numpy as np"
   ]
  },
  {
   "cell_type": "code",
   "execution_count": null,
   "id": "9d62ca76",
   "metadata": {},
   "outputs": [],
   "source": [
    "## 4-3 a) 판다스로 series 타입 만들기\n",
    "\n",
    "s = pd.Series([1, 3, 5, np.nan, 6, 8])\n",
    "print(s)"
   ]
  },
  {
   "cell_type": "code",
   "execution_count": null,
   "id": "c7efbe95",
   "metadata": {},
   "outputs": [],
   "source": [
    "## 4-3 b) dataFrame 타입 만들기\n",
    "\n",
    "dates = pd.date_range('20130101', periods=6)\n",
    "df = pd.DataFrame(np.random.randn(6,4), index=dates, columns=list('ABCD'))\n",
    "print(df)"
   ]
  },
  {
   "cell_type": "code",
   "execution_count": null,
   "id": "e47c1f55",
   "metadata": {},
   "outputs": [],
   "source": [
    "## 4-4) 판다스를 이용한 데이터 분석\n",
    "\n",
    "# 어느 식당의 매출 관련 데이터\n",
    "# total_bill(총지출액), tip(팁지불액), sex(예약자 성명), smoker(흡연석 유무)\n",
    "# day(예약일), time(예약시간:점심/저녁), size(예약인원)"
   ]
  },
  {
   "cell_type": "code",
   "execution_count": null,
   "id": "d730a68b",
   "metadata": {},
   "outputs": [],
   "source": [
    "## 4-4 a) 라이브러리 불러오기\n",
    "\n",
    "import pandas as pd\n",
    "import numpy as np\n",
    "import matplotlib.pyplot as plt\n",
    "import seaborn as sns"
   ]
  },
  {
   "cell_type": "code",
   "execution_count": null,
   "id": "5dbc1ad5",
   "metadata": {},
   "outputs": [],
   "source": [
    "## 4-4 b) 데이터셋 로딩하기\n",
    "\n",
    "tips = sns.load_dataset('tips')"
   ]
  },
  {
   "cell_type": "code",
   "execution_count": null,
   "id": "e91ea93a",
   "metadata": {},
   "outputs": [],
   "source": [
    "## 4-4 c) 데이터 살펴보기\n",
    "\n",
    "print(tips.shape) # 데이터셋 훑어보기"
   ]
  },
  {
   "cell_type": "code",
   "execution_count": null,
   "id": "97a0576b",
   "metadata": {},
   "outputs": [],
   "source": [
    "# 옵션: 경고 메시지 가리기\n",
    "import warnings\n",
    "warnings.filterwarnings(action='ignore')  # 경고 메시지 가리기\n",
    "# warnings.filterwarnings(action='default')   # 경고 메시지 보이기"
   ]
  },
  {
   "cell_type": "code",
   "execution_count": null,
   "id": "9475e0d0",
   "metadata": {},
   "outputs": [],
   "source": [
    "tips.mean()   # 컬럼별 평균값 보기\n"
   ]
  },
  {
   "cell_type": "code",
   "execution_count": null,
   "id": "96c93616",
   "metadata": {},
   "outputs": [],
   "source": [
    "tips.var()    # 컬럼별 분산값 보기"
   ]
  },
  {
   "cell_type": "code",
   "execution_count": null,
   "id": "1cba56f0",
   "metadata": {},
   "outputs": [],
   "source": [
    "tips.min()    # 컬럼별 최솟값 보기"
   ]
  },
  {
   "cell_type": "code",
   "execution_count": null,
   "id": "b418b53d",
   "metadata": {},
   "outputs": [],
   "source": [
    "tips.max()    # 컬럼별 최댓값 보기"
   ]
  },
  {
   "cell_type": "code",
   "execution_count": null,
   "id": "1f0d8c9c",
   "metadata": {},
   "outputs": [],
   "source": [
    "## 4-4 d) 데이터 자세히 살펴 보기\n",
    "\n",
    "tips['total_bill']           # total_bill 컬럼만 보기"
   ]
  },
  {
   "cell_type": "code",
   "execution_count": null,
   "id": "b1fde059",
   "metadata": {},
   "outputs": [],
   "source": [
    "tips['tip']                  # tip 컬럼만 보기\n"
   ]
  },
  {
   "cell_type": "code",
   "execution_count": null,
   "id": "0942b934",
   "metadata": {},
   "outputs": [],
   "source": [
    "tips[['total_bill','tip']]   # total_bill / tip 컬럼을 데이터프레임으로 보기"
   ]
  },
  {
   "cell_type": "code",
   "execution_count": null,
   "id": "d667aed8",
   "metadata": {},
   "outputs": [],
   "source": [
    "## 4-4 e) 기술통계 분석\n",
    "\n",
    "tips.describe() # 갯수, 평균, 표준편차, 최대, 최소, 분위수(1~4분위) 보기"
   ]
  },
  {
   "cell_type": "code",
   "execution_count": null,
   "id": "3349cdac",
   "metadata": {},
   "outputs": [],
   "source": [
    "tips.describe(percentiles = [.35, .50, .85, .95]) # 원하는 백분위수를 보고 싶다면 percentiles 옵션을 추가"
   ]
  },
  {
   "cell_type": "code",
   "execution_count": null,
   "id": "039938e8",
   "metadata": {},
   "outputs": [],
   "source": [
    "## 4-4 f) 기술통계 분석: 박스플롯\n",
    "\n",
    "    #   *    Outlier\n",
    "    #  ---   Maxium\n",
    "    #   |\n",
    "    # |---|  Upper quartile: 25%\n",
    "    # |   |\n",
    "    # |---|  Median: 50%\n",
    "    # |   |\n",
    "    # |---|  Lower quartile: 25%\n",
    "    #   |\n",
    "    #  ---   Minium\n",
    "#---------------------------------------------------------------#\n",
    "# 굵은 선: 중앙값                   # 동그라미: 아웃라이어(이상치)\n",
    "# 상자 밑변: 1사분위(25% 지점)      # 상자 윗변: 3사분위(75% 지점)\n",
    "# 가장 아래 선: 최솟값              # 가장 위의 선: 최댓값\n",
    "#---------------------------------------------------------------#  \n",
    "\n",
    "\n",
    "# 팁 금액은 보통 얼마인가? (단위: 달러)\n",
    "style = dict(markerfacecolor='g', marker='D')\n",
    "# 스타일 설정: 마커 페이스 컬러를 그린(g) / 마커형태를 다이아몬드(D)\n",
    "plt.boxplot(tips['tip'], flierprops=style)  \n",
    "plt.title(\"tips box plot\")                 \n",
    "plt.show()   "
   ]
  },
  {
   "cell_type": "code",
   "execution_count": null,
   "id": "3aa4416f",
   "metadata": {},
   "outputs": [],
   "source": [
    "## 4-4f) 분석 결과 시각화\n",
    "\n",
    "# 식사비용이 많을수록 팁을 많이 주는가? (단위: 달러)\n",
    "plt.figure\n",
    "# plt.title(\"total bill & tips\")\n",
    "plt.scatter(tips['total_bill'], tips['tip'] )\n",
    "plt.show()"
   ]
  },
  {
   "cell_type": "code",
   "execution_count": null,
   "id": "053bba4f",
   "metadata": {},
   "outputs": [],
   "source": [
    "# 흡연석이 비흡연석 보다 팁을 후하게 주는가?\n",
    "sns.boxplot(x=\"day\", y=\"tip\", hue=\"smoker\", data=tips)\n",
    "plt.show()"
   ]
  },
  {
   "cell_type": "code",
   "execution_count": null,
   "id": "2bd07e10",
   "metadata": {},
   "outputs": [],
   "source": [
    "#--------------------------------------\n",
    "# 5_분산과 표준편차: Numpy[넘파이] 연습\n",
    "#--------------------------------------"
   ]
  },
  {
   "cell_type": "code",
   "execution_count": null,
   "id": "d987e9ee",
   "metadata": {},
   "outputs": [],
   "source": [
    "## 5-1) Numpy란?\n",
    "\n",
    "# 파이썬 데이터 분석에서 가장 많이 사용하는 라이브러리는 판다스\n",
    "# 판다스는 데이터를 엑셀처럼 데이터 프레임 형식으로 다룰 수 있는 편리한 도구\n",
    "\n",
    "# 다만 데이터의 용량이 커질 경우 속도 문제로 판다스를 사용하기에는 한계가 있음\n",
    "# 벡터, 행렬 등 수치 연산을 수행하는 선형대수(Linear algebra) 계산의 경우 Numpy를 사용하면 계산속도가 빨라짐\n",
    "# Numpy란 Numerical Python의 약자로 숫자로 이루어진 대규모 다차원 배열을 다룰수 있게 도와주는 python 라이브러리\n",
    "\n",
    "# 판다스와 넘파이 차이 설명: https://0ver-grow.tistory.com/1051"
   ]
  },
  {
   "cell_type": "code",
   "execution_count": null,
   "id": "3075b0fe",
   "metadata": {},
   "outputs": [],
   "source": [
    "## 5-2) 평균의 함정\n",
    "\n",
    "# 서울의 어떤 지역의 아파트 월세 가격이 다음과 같을 때 평균은 얼마인가? (단위: 만원)\n",
    "import numpy as np\n",
    "math = np.array([50, 60, 70, 80])\n",
    "avg = np.mean(math)\n",
    "print(avg)            # 65만원"
   ]
  },
  {
   "cell_type": "code",
   "execution_count": null,
   "id": "acaa5324",
   "metadata": {},
   "outputs": [],
   "source": [
    "import numpy as np\n",
    "math = np.array([50, 60, 70, 80])\n",
    "avg = np.mean(math)\n",
    "print(avg)            # 65만원"
   ]
  },
  {
   "cell_type": "code",
   "execution_count": null,
   "id": "0f4ebbbc",
   "metadata": {},
   "outputs": [],
   "source": [
    "# 평균은 전체를 대표할 수 있으나 값의 편차가 심한 경우 비교 기준으로 사용하기 어려움\n",
    "\n",
    "# 두 지역의 아파트 월세 가격이 다음과 같을 때.... 두 지역은 어떤 차이를 가지고 있는가?\n",
    "# (두집단 모두 평균은 50만원)"
   ]
  },
  {
   "cell_type": "code",
   "execution_count": null,
   "id": "57846557",
   "metadata": {},
   "outputs": [],
   "source": [
    "a = np.array([50, 50, 50, 50])\n",
    "np.mean(a) "
   ]
  },
  {
   "cell_type": "code",
   "execution_count": null,
   "id": "3718b934",
   "metadata": {},
   "outputs": [],
   "source": [
    "b = np.array([100, 0, 100, 0])\n",
    "np.mean(b)                      "
   ]
  },
  {
   "cell_type": "code",
   "execution_count": null,
   "id": "74d90934",
   "metadata": {},
   "outputs": [],
   "source": [
    "## 5-3)  표준편차(sd: standard deviation)\n",
    "\n",
    "# a 보다 b 매장의 편차가 5배 큼(매출액 변화가 심함-진짜?)\n",
    "np.std(a)   # np.std 함수 이용하여 표준편차 계산: 표준편차  0\n",
    "np.std(b)   # np.std 함수 이용하여 표준편차 계산: 표준편차 50\n",
    "\n",
    "  # 표준편차 크기가 가지는 의미  \n",
    "  #\n",
    "  # |                           |      *\n",
    "  # |         *                 |     * *\n",
    "  # |      *     *              |    *   *\n",
    "  # |   *           *           |   *     *\n",
    "  # |*                 *        | *         *\n",
    "  # --------------------        --------------\n",
    "  #   분산/표준편차가           분산/표준편차가\n",
    "  #   큰 경우 (퍼짐)            작은 경우(뾰족함)  \n",
    "  #       x                            y "
   ]
  },
  {
   "cell_type": "code",
   "execution_count": null,
   "id": "32735519",
   "metadata": {},
   "outputs": [],
   "source": [
    "## 5-4) 표준편차 비교: 변동계수 \n",
    "\n",
    "# 변동계수(CV: coefficient of variance)\n",
    "# 표준편차는 직관적으로 데이터의 퍼짐 정도를 알아내기 적절함\n",
    "# 하지만 스케일이 다른 두 개의 분포를 비교하기에 문제가 있음\n",
    "\n",
    "# 2010, 2015, 2020년 서울과 고성의 아파트 가격 증가폭이 다음과 같다고 하자\n",
    "# (비율은 동일하지만 절대적 수치는 서울이 고성에 비하여 큼)\n",
    "\n",
    "서울 = np.array([10, 30, 50])\n",
    "고성 = np.array([0.5, 1.5, 2.5]) "
   ]
  },
  {
   "cell_type": "code",
   "execution_count": null,
   "id": "4227942f",
   "metadata": {},
   "outputs": [],
   "source": [
    "# 서로 다른 스케일을 가지는 표준편차는 비교가 불가능(why? 모집단이 다르기 때문임) \n",
    "# 서로 다른 스케일을 가지는 두 개의 표준편차를 비교하기 위해서는 변동계수가 필요함"
   ]
  },
  {
   "cell_type": "code",
   "execution_count": null,
   "id": "3101bea6",
   "metadata": {},
   "outputs": [],
   "source": [
    "import numpy as np\n",
    "a_cv = np.std(서울) / np.mean(서울)\n",
    "a_cv"
   ]
  },
  {
   "cell_type": "code",
   "execution_count": null,
   "id": "e45f93e6",
   "metadata": {},
   "outputs": [],
   "source": [
    "b_cv = np.std(고성) / np.mean(고성)\n",
    "b_cv  \n",
    "# 결과적으로 => 두 지역 아파트 가격 변동폭은 동일함을 보여줌"
   ]
  },
  {
   "cell_type": "code",
   "execution_count": null,
   "id": "6587b628",
   "metadata": {},
   "outputs": [],
   "source": [
    "#------------------------------------------------\n",
    "# 6_상관분석: seaborn 라이브러리를 이용한 시각화\n",
    "#------------------------------------------------"
   ]
  },
  {
   "cell_type": "code",
   "execution_count": null,
   "id": "ccb379f5",
   "metadata": {},
   "outputs": [],
   "source": [
    "## 6-1) 상관분석이란 무엇인가?\n",
    "\n",
    "# 두 변수가 가지는 관계를 -1에 서 1 사이로 표준화 한 계수 값\n",
    "# 일반적으로 r로 표시히고 -1~1까지 정의함\n",
    "\n",
    "#   |             *          | *\n",
    "#   |           *            |   *\n",
    "#   |         *              |      *\n",
    "#   |       *                |         *\n",
    "#   |     *                  |            *\n",
    "#   |   *                    |               *\n",
    "#   |_____________________   |_____________________\n",
    "\n",
    "#        r = +1                    r= -1"
   ]
  },
  {
   "cell_type": "code",
   "execution_count": null,
   "id": "da6abb05",
   "metadata": {},
   "outputs": [],
   "source": [
    "## 6-2) 상관분석 실습 예제 만들기: 독서 권수와 연봉의 상관관계\n",
    "\n",
    "import pandas as pd\n",
    "book_salary = pd.DataFrame({\"book\":[20,30,50,30,40,40,30,60,40,60], \n",
    "                            \"salary\":[40,50,70,100,90,80,60,130,80,100]})\n",
    "book_salary "
   ]
  },
  {
   "cell_type": "code",
   "execution_count": null,
   "id": "2a1ee028",
   "metadata": {},
   "outputs": [],
   "source": [
    "## 6-3) 변수 간 상관분석 하기: 피어슨 상관\n",
    "\n",
    "book_salary.corr(method='pearson')"
   ]
  },
  {
   "cell_type": "code",
   "execution_count": null,
   "id": "9e387fb5",
   "metadata": {},
   "outputs": [],
   "source": [
    "# 6-4) 상관관계 시각화\n",
    "import matplotlib.pyplot as plt\n",
    "plt.scatter(book_salary.book, book_salary.salary)"
   ]
  },
  {
   "cell_type": "code",
   "execution_count": null,
   "id": "b3a9dcbe",
   "metadata": {},
   "outputs": [],
   "source": [
    "## 6-5) heatmap으로 시각화 하기\n",
    "\n",
    "import seaborn as sb\n",
    "import matplotlib.pyplot as plt\n",
    "plt.rcParams[\"figure.figsize\"] = (5,5)\n",
    "sb.heatmap(book_salary.corr(),\n",
    "  annot = True, #실제 값 화면에 나타내기\n",
    "  cmap = 'Greens', #색상\n",
    "  vmin = -1, vmax=1 , #컬러차트 영역 -1 ~ +1\n",
    ")"
   ]
  },
  {
   "cell_type": "code",
   "execution_count": null,
   "id": "1910044e",
   "metadata": {},
   "outputs": [],
   "source": [
    "#----------------------\n",
    "# 7_회귀분석: 기초연습\n",
    "#----------------------"
   ]
  },
  {
   "cell_type": "code",
   "execution_count": null,
   "id": "85ecfbf5",
   "metadata": {},
   "outputs": [],
   "source": [
    "## 7-1) 판다스 데이터 프레임 만들기: 에어컨 예약건수와 판매 대수\n",
    "\n",
    "# 2012년부터 2020년까지 어느 대리점의 에어컨 예약 및 판매대수의 변화\n",
    "import pandas as pd\n",
    "air_condition = pd.DataFrame({\"예약\":[19, 23, 26, 29, 30, 38, 39, 46, 49],  # 예약대수\n",
    "                              \"판매\":[33, 51, 40, 49, 50, 69, 70, 64, 89]}) # 판매대수 \n",
    "air_condition"
   ]
  },
  {
   "cell_type": "code",
   "execution_count": null,
   "id": "eaa3be44",
   "metadata": {},
   "outputs": [],
   "source": [
    "## 7-2) plot 창에서 한글 깨짐 방지를 위한 폰트 설정\n",
    "\n",
    "from matplotlib import font_manager, rc\n",
    "font_path = \"C:/Windows/Fonts/NGULIM.TTF\"\n",
    "font = font_manager.FontProperties(fname=font_path).get_name()\n",
    "rc('font', family=font)"
   ]
  },
  {
   "cell_type": "code",
   "execution_count": null,
   "id": "7fd7b739",
   "metadata": {},
   "outputs": [],
   "source": [
    "## 7-3) 플로팅\n",
    "\n",
    "air_condition.plot()"
   ]
  },
  {
   "cell_type": "code",
   "execution_count": null,
   "id": "15ab3319",
   "metadata": {},
   "outputs": [],
   "source": [
    "## 7-4) 연구질문 1: 예약대수와 판매대수의 변화는 관계가 있는가? [상관분석]\n",
    "\n",
    "# (a) 피어슨 상관관계 분석\n",
    "air_condition.corr(method = 'pearson')"
   ]
  },
  {
   "cell_type": "code",
   "execution_count": null,
   "id": "085148a3",
   "metadata": {},
   "outputs": [],
   "source": [
    "## (b) 상관관계 시각화\n",
    "\n",
    "import matplotlib.pyplot as plt\n",
    "plt.scatter(air_condition.예약, air_condition.판매)"
   ]
  },
  {
   "cell_type": "code",
   "execution_count": null,
   "id": "a1e4f6b2",
   "metadata": {},
   "outputs": [],
   "source": [
    "## 7-5) 회귀분석 1: statsmodels 라이브러리를 활용한 모델링\n",
    "\n",
    "from statsmodels.formula.api import ols\n",
    "res = ols('판매 ~ 예약', data=air_condition).fit()\n",
    "res.summary()"
   ]
  },
  {
   "cell_type": "code",
   "execution_count": null,
   "id": "f82323ff",
   "metadata": {},
   "outputs": [],
   "source": [
    "# 회귀식 추정(예약이 증가할수록 판매량이 얼마나 늘어나는가): y = 1.5295x + 6.4095\n",
    "\n",
    "# [에어컨 판매대수 = 1.5295 X 예약대수 + 6.4095]\n",
    "\n",
    "# 에어컨 예약이 한대 증가할 때 마다 판매는 1.5295배 증가 => β = 1.5295\n",
    "\n",
    "## (5-c) 회귀모형의 신뢰성(결정계수)은 얼마인가?:  R-squared: 0.834\n",
    "\n",
    "# 회귀모형의 설명력 83.4%: 회귀식이 전체 데이터의 81.4%를 설명할 수 있음\n",
    "# 결정계수 값의 의미: 1이면 설명력 높음 / 0이면 설명력 없음  "
   ]
  },
  {
   "cell_type": "code",
   "execution_count": null,
   "id": "908f95ab",
   "metadata": {},
   "outputs": [],
   "source": [
    "## 7-6) 시각화\n",
    "\n",
    "import seaborn as sns \n",
    "import matplotlib.pyplot as plt\n",
    "sns.regplot(x=\"예약\", y=\"판매\", data=air_condition) \n",
    "plt.ylim(0,) \n",
    "plt.show()"
   ]
  }
 ],
 "metadata": {
  "kernelspec": {
   "display_name": "Python 3 (ipykernel)",
   "language": "python",
   "name": "python3"
  },
  "language_info": {
   "codemirror_mode": {
    "name": "ipython",
    "version": 3
   },
   "file_extension": ".py",
   "mimetype": "text/x-python",
   "name": "python",
   "nbconvert_exporter": "python",
   "pygments_lexer": "ipython3",
   "version": "3.9.12"
  }
 },
 "nbformat": 4,
 "nbformat_minor": 5
}
